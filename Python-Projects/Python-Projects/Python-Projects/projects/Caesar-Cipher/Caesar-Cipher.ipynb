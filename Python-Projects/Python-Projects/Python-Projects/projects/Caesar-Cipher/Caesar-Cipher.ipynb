{
 "cells": [
  {
   "cell_type": "code",
   "execution_count": 2,
   "id": "000b5fec",
   "metadata": {},
   "outputs": [
    {
     "name": "stdout",
     "output_type": "stream",
     "text": [
      "Collecting pyperclip\n",
      "  Downloading pyperclip-1.8.2.tar.gz (20 kB)\n",
      "  Preparing metadata (setup.py): started\n",
      "  Preparing metadata (setup.py): finished with status 'done'\n",
      "Building wheels for collected packages: pyperclip\n",
      "  Building wheel for pyperclip (setup.py): started\n",
      "  Building wheel for pyperclip (setup.py): finished with status 'done'\n",
      "  Created wheel for pyperclip: filename=pyperclip-1.8.2-py3-none-any.whl size=11137 sha256=ea4bb0ea84bab9ffa10cb2635786dadad705309b55ff5262c5e15c473ce65766\n",
      "  Stored in directory: c:\\users\\dell\\appdata\\local\\pip\\cache\\wheels\\70\\bd\\ba\\8ae5c080c895c9360fe6e153acda2dee82527374467eae061b\n",
      "Successfully built pyperclip\n",
      "Installing collected packages: pyperclip\n",
      "Successfully installed pyperclip-1.8.2\n",
      "Note: you may need to restart the kernel to use updated packages.\n"
     ]
    }
   ],
   "source": [
    "pip install pyperclip"
   ]
  },
  {
   "cell_type": "code",
   "execution_count": 2,
   "id": "984f521a",
   "metadata": {},
   "outputs": [
    {
     "name": "stdout",
     "output_type": "stream",
     "text": [
      "Type 'encode' to encrypt, type 'decode' to decrypt:\n",
      "encode\n",
      "Type your message:\n",
      "aman\n",
      "Type the shift number:\n",
      "5555\n",
      "The encoded text is: frfs.\n",
      "It has been copied to you clipboard 😉\n",
      "Type 'yes' to continue otherwise type 'no'.\n",
      "yes\n",
      "Type 'encode' to encrypt, type 'decode' to decrypt:\n",
      "decode\n",
      "Type your message:\n",
      "frfs\n",
      "Type the shift number:\n",
      "5555\n",
      "The decoded text is: aman.\n",
      "It has been copied to you clipboard 😉\n",
      "Type 'yes' to continue otherwise type 'no'.\n",
      "no\n"
     ]
    }
   ],
   "source": [
    "import string as st\n",
    "import pyperclip\n",
    "\n",
    "letter_list = st.ascii_lowercase\n",
    "alphabet = [letter for letter in letter_list]*2\n",
    "\n",
    "\n",
    "def caesar(text1, shift1, direction1):\n",
    "    end_text = ''\n",
    "    if direction == 'decode':\n",
    "        shift1 *= -1\n",
    "\n",
    "    for char in text1:\n",
    "        if char in alphabet:\n",
    "            position = alphabet.index(char)\n",
    "            new_position = position + shift1\n",
    "            end_text += alphabet[new_position]\n",
    "        else:\n",
    "            end_text += char\n",
    "    print(f'The {direction1}d text is: {end_text}.')\n",
    "    pyperclip.copy(end_text)\n",
    "    print(\"It has been copied to you clipboard 😉\")\n",
    "\n",
    "\n",
    "should_continue = True\n",
    "while should_continue:\n",
    "    direction = input(\"Type 'encode' to encrypt, type 'decode' to decrypt:\\n\")\n",
    "    text = input(\"Type your message:\\n\").lower()\n",
    "    shift = int(input(\"Type the shift number:\\n\"))\n",
    "    shift = shift % 25\n",
    "\n",
    "    caesar(text, shift, direction)\n",
    "    choice = input(\"Type 'yes' to continue otherwise type 'no'.\\n\")\n",
    "    if choice == 'no':\n",
    "        should_continue = False\n"
   ]
  },
  {
   "cell_type": "code",
   "execution_count": null,
   "id": "a7c861a3",
   "metadata": {},
   "outputs": [],
   "source": []
  }
 ],
 "metadata": {
  "kernelspec": {
   "display_name": "Python 3 (ipykernel)",
   "language": "python",
   "name": "python3"
  },
  "language_info": {
   "codemirror_mode": {
    "name": "ipython",
    "version": 3
   },
   "file_extension": ".py",
   "mimetype": "text/x-python",
   "name": "python",
   "nbconvert_exporter": "python",
   "pygments_lexer": "ipython3",
   "version": "3.11.3"
  }
 },
 "nbformat": 4,
 "nbformat_minor": 5
}
