{
 "cells": [
  {
   "cell_type": "code",
   "execution_count": null,
   "id": "8428a3ae",
   "metadata": {},
   "outputs": [],
   "source": [
    "import tkinter as tk\n",
    "import pyperclip as pc\n",
    "import webbrowser\n",
    "\n",
    "Height = 700\n",
    "Width = 600\n",
    "root = tk.Tk()\n",
    "root.title(\"Location Search\")\n",
    "canvas_color = \"#FB6223\"\n",
    "frame_color = \"#2DE3E9\"\n",
    "inner_frame_color = \"#2EE3E9\"\n",
    "button_color = \"#B8E82D\"\n",
    "entry_color = \"#F2FECE\"\n",
    "font_ = (\"Handlee\", 16)\n",
    "\n",
    "\n",
    "def search_function(search_term):\n",
    "    webbrowser.open(\"https://google.com/maps/place/\" + str(search_term))\n",
    "\n",
    "\n",
    "canvas = tk.Canvas(root, height=Height, width=Width, bg=canvas_color)\n",
    "canvas.pack()\n",
    "\n",
    "frame = tk.Frame(root, bg=frame_color, bd=2)\n",
    "frame.place(relx=0.075, rely=0.1, relwidth=0.85, relheight=0.75)\n",
    "\n",
    "\n",
    "entry = tk.Entry(frame, bg=entry_color, font=font_)\n",
    "entry.place(relx=0.16, rely=0.1, relwidth=0.60, relheight=0.05)\n",
    "\n",
    "label = tk.Label(frame, bg=canvas_color, text=\"Enter location to search\", font=font_)\n",
    "label.place(relx=0.20, rely=0.2)\n",
    "\n",
    "\n",
    "button = tk.Button(\n",
    "    frame,\n",
    "    font=font_,\n",
    "    bg=button_color,\n",
    "    text=\"Search\",\n",
    "    command=lambda: search_function(entry.get()),\n",
    ")\n",
    "button.place(relx=0.77, rely=0.1, relwidth=0.20, relheight=0.05)\n",
    "\n",
    "root.mainloop()\n"
   ]
  }
 ],
 "metadata": {
  "kernelspec": {
   "display_name": "Python 3 (ipykernel)",
   "language": "python",
   "name": "python3"
  },
  "language_info": {
   "codemirror_mode": {
    "name": "ipython",
    "version": 3
   },
   "file_extension": ".py",
   "mimetype": "text/x-python",
   "name": "python",
   "nbconvert_exporter": "python",
   "pygments_lexer": "ipython3",
   "version": "3.11.3"
  }
 },
 "nbformat": 4,
 "nbformat_minor": 5
}
